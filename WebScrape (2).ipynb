{
 "cells": [
  {
   "cell_type": "code",
   "execution_count": 1,
   "id": "4c0dabf9-3c28-43cc-b48c-b484b50cdedb",
   "metadata": {},
   "outputs": [],
   "source": [
    "#import libraries\n",
    "\n",
    "from bs4 import BeautifulSoup \n",
    "import requests\n",
    "import smtplib\n",
    "import time \n",
    "import datetime\n"
   ]
  },
  {
   "cell_type": "code",
   "execution_count": 3,
   "id": "21677749-9ca4-496d-9bc5-d2a9c5dee5ae",
   "metadata": {},
   "outputs": [],
   "source": [
    "#connecting to amazon and gathering/pulling data \n",
    "URL = 'https://www.amazon.com/Hanes-MC116-Max-Cushion-Ankle/dp/B08MBFY2VH/ref=sr_1_4?crid=1ULGR76EVSFS9&dib=eyJ2IjoiMSJ9.ShSE0n0OiwUfUMw1CTecnuG-n_w8JdQ11B07zsarYfICpLlbVcjzaRzg0T1XDvg9cr425i424MKYHbSKABGeGwFyYRP5HmZT-Cu2Oe08tawngSl4ODcofIP46REvFn2HLjh6CKQLxz2UEtlv4PilIY7YJ0ScHpuJMFIXAJwlq_QeCHO9PwOZ8FoL8bTH5oiKOP7kqU10-sfeS5_CdfgHHdwGxcPuMOg4AJ7po9G8AjfvSuyRKKazDv08yWhDAmk2i1fHD6bYnLurMmsO-dw3syYR2WoTRuyFRJQ14dFF5XY.-X9Gz_LCVrh836xZN6FFJqVowfUJhenA_nzTxE4idVc&dib_tag=se&keywords=hanes+ankle+socks&qid=1724203271&sprefix=hanes+ankle+socsk%2Caps%2C115&sr=8-4'\n",
    "\n",
    "headers = {\"User-Agent\": \"Mozilla/5.0 (Windows NT 10.0; Win64; x64) AppleWebKit/537.36 (KHTML, like Gecko) Chrome/127.0.0.0 Safari/537.36\", \"Accept-Encoding\":\"gzip, deflate\", \"Accept\":\"text/html,application/xhtml+xml,application/xml;q=0.9,*/*;q=0.8\", \"DNT\":\"1\",\"Connection\":\"close\", \"Upgrade-Insecure-Requests\":\"1\"}\n",
    "\n",
    "page = requests.get(URL, headers=headers)\n",
    "\n",
    "soup1 = BeautifulSoup(page.content, \"html.parser\")\n",
    "\n",
    "soup2 = BeautifulSoup(soup1.prettify(), \"html.parser\")\n",
    "\n",
    "#print(soup2)\n",
    "\n",
    "title = soup2.find(id='productTitle').get_text()\n",
    "\n",
    "price_symbol = soup2.find('span', class_ = 'a-price-symbol').get_text(strip=True)\n",
    "price_whole = soup2.find('span', class_='a-price-whole').get_text(strip=True)\n",
    "price_fraction = soup2.find('span', class_='a-price-fraction').get_text(strip=True)\n",
    "price = f\"{price_symbol}{price_whole}{price_fraction}\"\n",
    "\n",
    "ratings = soup2.find(id='acrCustomerReviewText').get_text()\n",
    "\n"
   ]
  },
  {
   "cell_type": "code",
   "execution_count": 4,
   "id": "6f033347-a31e-4b58-8ba4-8009ad5e0984",
   "metadata": {},
   "outputs": [
    {
     "name": "stdout",
     "output_type": "stream",
     "text": [
      "Hanes Mens Hanes Men'S Max Cushioned Ankle Socks, Multi-Packs\n",
      "$11.00\n",
      "2,834 ratings\n"
     ]
    }
   ],
   "source": [
    "title = title.strip()\n",
    "ratings = ratings.strip()\n",
    "print(title)\n",
    "print(price)\n",
    "print(ratings)\n"
   ]
  },
  {
   "cell_type": "code",
   "execution_count": 7,
   "id": "169fd240-de58-4003-baea-4bda2384e95b",
   "metadata": {},
   "outputs": [
    {
     "name": "stdout",
     "output_type": "stream",
     "text": [
      "2025-03-25\n"
     ]
    }
   ],
   "source": [
    "#timestamp for output of our data \n",
    "import datetime\n",
    "\n",
    "today = datetime.date.today()\n",
    "\n",
    "print(today)"
   ]
  },
  {
   "cell_type": "code",
   "execution_count": 41,
   "id": "3ed5df4c-0191-4e97-8f69-3f6f47c3cca1",
   "metadata": {
    "scrolled": true
   },
   "outputs": [],
   "source": [
    "#create csv and headers/data for file\n",
    "import csv\n",
    "\n",
    "header = ['Title', 'Price', 'Date']\n",
    "data = [title, price, today]\n",
    "\n",
    "#type(data)\n",
    "\n",
    "#run this only once because it deletes all your data\n",
    "with open('AmazonWebScraperDataset.csv', 'w', newline='', encoding='UTF8') as f:\n",
    "    #writer=csv.writer(f)\n",
    "    #writer.writerow(header)\n",
    "    #writer.writerow(data)\n",
    "\n"
   ]
  },
  {
   "cell_type": "code",
   "execution_count": 43,
   "id": "21a71961-8a55-4df4-b2d8-a1af69b240f3",
   "metadata": {
    "scrolled": true
   },
   "outputs": [
    {
     "name": "stdout",
     "output_type": "stream",
     "text": [
      "                                               Title   Price        Date\n",
      "0  Hanes Mens Hanes Men'S Max Cushioned Ankle Soc...  $11.00  2024-08-21\n"
     ]
    }
   ],
   "source": [
    "import pandas as pd\n",
    "\n",
    "df = pd.read_csv(r'C:\\Users\\MikeyD\\AmazonWebScraperDataset.csv')\n",
    "\n",
    "print(df)"
   ]
  },
  {
   "cell_type": "code",
   "execution_count": 13,
   "id": "3ab36296-3e3c-47d5-b1a9-52b091025230",
   "metadata": {},
   "outputs": [],
   "source": [
    "#appending data\n",
    "\n",
    "with open('AmazonWebScraperDataset.csv', 'a+', newline='', encoding='UTF8') as f:\n",
    "    writer=csv.writer(f)\n",
    "    writer.writerow(data)"
   ]
  },
  {
   "cell_type": "code",
   "execution_count": 9,
   "id": "423cc180-6875-4042-b918-c78c6b1e0fe2",
   "metadata": {},
   "outputs": [],
   "source": [
    "#combine everything to make function \n",
    "def check_price():\n",
    "    URL = 'https://www.amazon.com/Hanes-MC116-Max-Cushion-Ankle/dp/B08MBFY2VH/ref=sr_1_4?crid=1ULGR76EVSFS9&dib=eyJ2IjoiMSJ9.ShSE0n0OiwUfUMw1CTecnuG-n_w8JdQ11B07zsarYfICpLlbVcjzaRzg0T1XDvg9cr425i424MKYHbSKABGeGwFyYRP5HmZT-Cu2Oe08tawngSl4ODcofIP46REvFn2HLjh6CKQLxz2UEtlv4PilIY7YJ0ScHpuJMFIXAJwlq_QeCHO9PwOZ8FoL8bTH5oiKOP7kqU10-sfeS5_CdfgHHdwGxcPuMOg4AJ7po9G8AjfvSuyRKKazDv08yWhDAmk2i1fHD6bYnLurMmsO-dw3syYR2WoTRuyFRJQ14dFF5XY.-X9Gz_LCVrh836xZN6FFJqVowfUJhenA_nzTxE4idVc&dib_tag=se&keywords=hanes+ankle+socks&qid=1724203271&sprefix=hanes+ankle+socsk%2Caps%2C115&sr=8-4'\n",
    "\n",
    "    headers = {\"User-Agent\": \"Mozilla/5.0 (Windows NT 10.0; Win64; x64) AppleWebKit/537.36 (KHTML, like Gecko) Chrome/127.0.0.0 Safari/537.36\", \"Accept-Encoding\":\"gzip, deflate\", \"Accept\":\"text/html,application/xhtml+xml,application/xml;q=0.9,*/*;q=0.8\", \"DNT\":\"1\",\"Connection\":\"close\", \"Upgrade-Insecure-Requests\":\"1\"}\n",
    "\n",
    "    page = requests.get(URL, headers=headers)\n",
    "\n",
    "    soup1 = BeautifulSoup(page.content, \"html.parser\")\n",
    "\n",
    "    soup2 = BeautifulSoup(soup1.prettify(), \"html.parser\")\n",
    "\n",
    "    #print(soup2)\n",
    "\n",
    "    title = soup2.find(id='productTitle').get_text()\n",
    "\n",
    "    price_symbol = soup2.find('span', class_ = 'a-price-symbol').get_text(strip=True)\n",
    "    price_whole = soup2.find('span', class_='a-price-whole').get_text(strip=True)\n",
    "    price_fraction = soup2.find('span', class_='a-price-fraction').get_text(strip=True)\n",
    "    price = f\"{price_symbol}{price_whole}{price_fraction}\"\n",
    "\n",
    "    title = title.strip()\n",
    "\n",
    "    import datetime\n",
    "\n",
    "    today = datetime.date.today()\n",
    "\n",
    "    import csv\n",
    "\n",
    "    header = ['Title', 'Price', 'Date']\n",
    "    data = [title, price, today]\n",
    "\n",
    "    with open('AmazonWebScraperDataset.csv', 'a+', newline='', encoding='UTF8') as f:\n",
    "        writer=csv.writer(f)\n",
    "        writer.writerow(data)\n",
    "\n",
    "    if(price < 11):\n",
    "        send_mail()"
   ]
  },
  {
   "cell_type": "code",
   "execution_count": 11,
   "id": "70115f75-4805-49e1-9fdf-ceebcc7d371f",
   "metadata": {},
   "outputs": [
    {
     "ename": "KeyboardInterrupt",
     "evalue": "",
     "output_type": "error",
     "traceback": [
      "\u001b[1;31m---------------------------------------------------------------------------\u001b[0m",
      "\u001b[1;31mKeyboardInterrupt\u001b[0m                         Traceback (most recent call last)",
      "Cell \u001b[1;32mIn[11], line 3\u001b[0m\n\u001b[0;32m      1\u001b[0m \u001b[38;5;28;01mwhile\u001b[39;00m(\u001b[38;5;28;01mTrue\u001b[39;00m):\n\u001b[0;32m      2\u001b[0m     check_price()\n\u001b[1;32m----> 3\u001b[0m     time\u001b[38;5;241m.\u001b[39msleep(\u001b[38;5;241m5\u001b[39m)\n",
      "\u001b[1;31mKeyboardInterrupt\u001b[0m: "
     ]
    }
   ],
   "source": [
    "while(True):\n",
    "    check_price()\n",
    "    time.sleep(5)"
   ]
  },
  {
   "cell_type": "code",
   "execution_count": 14,
   "id": "35507cef-103a-47e3-8ab5-11410346ab16",
   "metadata": {},
   "outputs": [
    {
     "name": "stdout",
     "output_type": "stream",
     "text": [
      "                                               Title   Price        Date\n",
      "0  Hanes Mens Hanes Men'S Max Cushioned Ankle Soc...  $11.00  2024-08-21\n",
      "1  Hanes Mens Hanes Men'S Max Cushioned Ankle Soc...  $11.00  2024-08-21\n",
      "2  Hanes Mens Hanes Men'S Max Cushioned Ankle Soc...  $11.00  2024-08-21\n",
      "3  Hanes Mens Hanes Men'S Max Cushioned Ankle Soc...  $11.00  2024-08-21\n",
      "4  Hanes Mens Hanes Men'S Max Cushioned Ankle Soc...  $11.00  2024-08-21\n"
     ]
    }
   ],
   "source": [
    "import pandas as pd\n",
    "\n",
    "df = pd.read_csv(r'C:\\Users\\MikeyD\\AmazonWebScraperDataset.csv')\n",
    "\n",
    "print(df)"
   ]
  },
  {
   "cell_type": "code",
   "execution_count": 5,
   "id": "8ca39bbf-b0e8-486a-8c70-d6f86d48a495",
   "metadata": {},
   "outputs": [
    {
     "ename": "SyntaxError",
     "evalue": "incomplete input (701907409.py, line 2)",
     "output_type": "error",
     "traceback": [
      "\u001b[1;36m  Cell \u001b[1;32mIn[5], line 2\u001b[1;36m\u001b[0m\n\u001b[1;33m    def send_mail():\u001b[0m\n\u001b[1;37m                    ^\u001b[0m\n\u001b[1;31mSyntaxError\u001b[0m\u001b[1;31m:\u001b[0m incomplete input\n"
     ]
    }
   ],
   "source": [
    "#def send_mail():\n",
    "def send_mail():\n",
    "    \n",
    "    server = smtplib.SMTP_SSL('smtp.gmail.com',465)\n",
    "    server.ehlo()\n",
    "    #server.starttls()\n",
    "    server.ehlo()\n",
    "    server.login('guccimichelle04@gmail.com','xxxxxxxxxxxx')#put in actual password when in use\n",
    "    \n",
    "    subject = \"The Hanes socks you want is below $11! Now is your chance to buy!\"\n",
    "    body = \"This is the chance for you to buy the most comfortable socks ever! Get them at: https://www.amazon.com/Hanes-MC116-Max-Cushion-Ankle/dp/B08MBFY2VH/ref=sr_1_4?crid=1ULGR76EVSFS9&dib=eyJ2IjoiMSJ9.ShSE0n0OiwUfUMw1CTecnuG-n_w8JdQ11B07zsarYfICpLlbVcjzaRzg0T1XDvg9cr425i424MKYHbSKABGeGwFyYRP5HmZT-Cu2Oe08tawngSl4ODcofIP46REvFn2HLjh6CKQLxz2UEtlv4PilIY7YJ0ScHpuJMFIXAJwlq_QeCHO9PwOZ8FoL8bTH5oiKOP7kqU10-sfeS5_CdfgHHdwGxcPuMOg4AJ7po9G8AjfvSuyRKKazDv08yWhDAmk2i1fHD6bYnLurMmsO-dw3syYR2WoTRuyFRJQ14dFF5XY.-X9Gz_LCVrh836xZN6FFJqVowfUJhenA_nzTxE4idVc&dib_tag=se&keywords=hanes+ankle+socks&qid=1724203271&sprefix=hanes+ankle+socsk%2Caps%2C115&sr=8-4\"\n",
    "   \n",
    "    msg = f\"Subject: {subject}\\n\\n{body}\"\n",
    "    \n",
    "    server.sendmail(\n",
    "        'guccimichelle04@gmail.com',\n",
    "        msg\n",
    "     \n",
    "    )"
   ]
  }
 ],
 "metadata": {
  "kernelspec": {
   "display_name": "Python 3 (ipykernel)",
   "language": "python",
   "name": "python3"
  },
  "language_info": {
   "codemirror_mode": {
    "name": "ipython",
    "version": 3
   },
   "file_extension": ".py",
   "mimetype": "text/x-python",
   "name": "python",
   "nbconvert_exporter": "python",
   "pygments_lexer": "ipython3",
   "version": "3.12.4"
  }
 },
 "nbformat": 4,
 "nbformat_minor": 5
}
